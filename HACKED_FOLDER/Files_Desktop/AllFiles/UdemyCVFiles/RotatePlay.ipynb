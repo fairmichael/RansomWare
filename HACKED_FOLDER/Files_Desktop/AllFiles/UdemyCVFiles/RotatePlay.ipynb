{
 "cells": [
  {
   "cell_type": "code",
   "execution_count": null,
   "metadata": {
    "collapsed": true
   },
   "outputs": [],
   "source": [
    "import cv2\n",
    "import numpy as np"
   ]
  },
  {
   "cell_type": "code",
   "execution_count": null,
   "metadata": {
    "collapsed": true
   },
   "outputs": [],
   "source": [
    "square = np.zeros((300,300), np.uint8)"
   ]
  },
  {
   "cell_type": "code",
   "execution_count": null,
   "metadata": {
    "collapsed": true
   },
   "outputs": [],
   "source": [
    "cv2.rectangle(square, (50,50), (250,250), 255, 1)"
   ]
  },
  {
   "cell_type": "code",
   "execution_count": null,
   "metadata": {
    "collapsed": true
   },
   "outputs": [],
   "source": [
    "cv2.imshow('Square', square)\n",
    "cv2.waitKey(0)\n",
    "cv2.destroyAllWindows()"
   ]
  },
  {
   "cell_type": "code",
   "execution_count": null,
   "metadata": {},
   "outputs": [],
   "source": [
    "\n",
    "ellipse = np.zeros((300,300), np.uint8)\n",
    "cv2.ellipse(ellipse, (150,150), (130,60), 0, 90, 450, 255, 5)\n",
    "cv2.imshow('Ellipse', ellipse)\n",
    "cv2.waitKey(100)\n",
    "cv2.destroyAllWindows()"
   ]
  },
  {
   "cell_type": "code",
   "execution_count": null,
   "metadata": {},
   "outputs": [],
   "source": [
    "cap = cv2.VideoCapture(0)\n",
    "\n",
    "grayturn = False\n",
    "import time\n",
    "\n",
    "begin = time.time()\n",
    "while True:\n",
    "    _, frame = cap.read()\n",
    "    if not grayturn and time.time() - begin >= 0.1:\n",
    "        img = frame\n",
    "        grayturn = True\n",
    "        begin = time.time()\n",
    "    elif grayturn and time.time() - begin >= 0.1:\n",
    "        img = cv2.cvtColor(frame, cv2.COLOR_BGR2GRAY)\n",
    "        grayturn = False\n",
    "        begin = time.time()\n",
    "    height, width = img.shape[:2]\n",
    "    cv2.rectangle(img, (width / 4, height / 4), (870, 700), 255, 1)\n",
    "    cv2.imshow('Face', img)\n",
    "    w = cv2.waitKey(1)\n",
    "    if w == ord('m'):\n",
    "        break\n",
    "cap.release()"
   ]
  },
  {
   "cell_type": "code",
   "execution_count": null,
   "metadata": {},
   "outputs": [],
   "source": [
    "import time\n",
    "import cv2\n",
    "import numpy as np\n",
    "import sys\n",
    "\n",
    "def rotate(images, deg):\n",
    "    rotatedImages = []\n",
    "    for image in images:\n",
    "        height, width = image.shape[:2]\n",
    "        rotMatrix = cv2.getRotationMatrix2D((width/2, height/2), deg, 1)\n",
    "        rotatedImage = cv2.warpAffine(image, rotMatrix, (width, height))\n",
    "        rotatedImages.append(rotatedImage)\n",
    "    return rotatedImages\n",
    "    \n",
    "grayturn = False\n",
    "\n",
    "begin = time.time()\n",
    "cap = cv2.VideoCapture(0)\n",
    "\n",
    "deg = 0\n",
    "intensity = 40\n",
    "isAdd = True\n",
    "\n",
    "while True:\n",
    "    _, frame = cap.read()\n",
    "    B, G, R = cv2.split(frame)\n",
    "    \n",
    "    zeros = np.zeros(frame.shape[:2], np.uint8)\n",
    "    \n",
    "    blue = cv2.resize(cv2.merge([B+intensity, zeros, zeros]), None, fx=0.25, fy=0.25)\n",
    "    green = cv2.resize(cv2.merge([zeros, G+intensity, zeros]), None, fx=0.25, fy=0.25)\n",
    "    red = cv2.resize(cv2.merge([zeros, zeros, R+intensity]), None, fx=0.25, fy=0.25)\n",
    "    rotatedImages = rotate([blue, green, red], deg)\n",
    "    for i, img in enumerate(rotatedImages):\n",
    "        cv2.imshow(str(i), img)\n",
    "    key = cv2.waitKey(1)\n",
    "    if key == ord('m'):\n",
    "        break\n",
    "    if intensity == 0:\n",
    "        isAdd = True\n",
    "    if intensity == 255:\n",
    "        isAdd = False\n",
    "    if isAdd:\n",
    "        intensity += 1\n",
    "    else:\n",
    "        intensity -= 1\n",
    "    \n",
    "cap.release()"
   ]
  },
  {
   "cell_type": "code",
   "execution_count": null,
   "metadata": {},
   "outputs": [],
   "source": [
    "cap.release()"
   ]
  },
  {
   "cell_type": "code",
   "execution_count": null,
   "metadata": {},
   "outputs": [],
   "source": [
    "def process_img(original):\n",
    "    gray = cv2.cvtColor(original, cv2.COLOR_BGR2GRAY)\n",
    "    edges= cv2.Canny(gray, threshold1=200, threshold2=300)\n",
    "    return edges"
   ]
  },
  {
   "cell_type": "code",
   "execution_count": null,
   "metadata": {},
   "outputs": [],
   "source": [
    "cap = cv2.VideoCapture(0)\n",
    "_, image = cap.read()\n",
    "\n",
    "proc = process_img(image)\n"
   ]
  },
  {
   "cell_type": "code",
   "execution_count": null,
   "metadata": {},
   "outputs": [],
   "source": [
    "import cv2\n",
    "import numpy as np\n",
    "\n",
    "cap = cv2.VideoCapture(0)\n",
    "\n",
    "def process_img(original):\n",
    "    gray = cv2.cvtColor(original, cv2.COLOR_BGR2GRAY)\n",
    "    edges= cv2.Canny(gray, threshold1=200, threshold2=300)\n",
    "    return edges\n",
    "\n",
    "while True:\n",
    "    _, image = cap.read()\n",
    "    proc = process_img(image)\n",
    "\n",
    "    cv2.imshow('Original', cv2.resize(image, None, fx=0.25, fy=0.25))\n",
    "    cv2.imshow('Processed', cv2.resize(proc, None, fx=0.25, fy=0.25))\n",
    "    key = cv2.waitKey(1)\n",
    "    print key\n",
    "    if key == ord('q'):\n",
    "        cv2.destroyAllWindows()\n",
    "        break"
   ]
  },
  {
   "cell_type": "code",
   "execution_count": 1,
   "metadata": {
    "collapsed": true
   },
   "outputs": [],
   "source": [
    "import cv2\n",
    "import numpy as np\n",
    "\n",
    "def create_color_image(num, color):\n",
    "    zeros = np.zeros((512,512), np.uint8)\n",
    "    gray_value = zeros + num\n",
    "    if color.lower() == 'b':\n",
    "        img = cv2.merge([gray_value, zeros, zeros])\n",
    "    elif color.lower() == 'g':\n",
    "        img = cv2.merge([zeros, gray_value, zeros])\n",
    "    elif color.lower() == 'r':\n",
    "        img = cv2.merge([zeros, zeros, gray_value])\n",
    "    else:\n",
    "        return None\n",
    "    return img\n",
    "        "
   ]
  },
  {
   "cell_type": "code",
   "execution_count": 3,
   "metadata": {},
   "outputs": [],
   "source": [
    "green = create_color_image(201, 'g')\n",
    "green1 = create_color_image(100, 'g')\n",
    "blue = create_color_image(200, 'b')\n",
    "red = create_color_image(100, 'r')\n",
    "\n",
    "# merged = cv2.merge([green, blue, red])\n",
    "# cv2.imshow('Merged & Green', cv2.bitwise_and(merged, green))\n",
    "# cv2.waitKey(3000)\n",
    "# cv2.destroyAllWindows()\n",
    "# yellow = cv2.bitwise_not(blue)\n",
    "# cv2.imshow('Yellow', yellow)\n",
    "# cv2.imshow('Blue', blue)\n",
    "# cv2.imshow('Yellow & Blue', cv2.bitwise_and(yellow, blue))\n",
    "# print '\\n%s\\n' % str(yellow)\n",
    "# print '\\n%s\\n' % str(blue)\n",
    "# print '\\n%s\\n' % str(cv2.bitwise_and(yellow, blue))\n",
    "\n",
    "cv2.imshow('Green', green)\n",
    "cv2.imshow('Green Less', green1)\n",
    "cv2.imshow('Combined', cv2.bitwise_and(green, green1))\n",
    "\n",
    "cv2.waitKey(3000)\n",
    "cv2.destroyAllWindows()"
   ]
  },
  {
   "cell_type": "code",
   "execution_count": null,
   "metadata": {
    "scrolled": true
   },
   "outputs": [],
   "source": [
    "from cv2 import imread, imshow\n",
    "import cv2\n",
    "import numpy as np\n",
    "\n",
    "one = imread('OnePiece.jpg')\n",
    "lich = imread('LichKing.jpg')\n",
    "\n",
    "anded = cv2.bitwise_and(one,lich)\n",
    "notone = cv2.bitwise_not(one)\n",
    "notlich = cv2.bitwise_not(lich)\n",
    "cv2.imshow('Lich King', lich)\n",
    "cv2.imshow('One Piece', one)\n",
    "cv2.imshow('Lich King and One Piece', anded)\n",
    "\n",
    "print '\\n\\nOne Piece %s\\n\\n' % str(one)\n",
    "print '\\n\\nLich King%s\\n\\n' % str(lich)\n",
    "print '\\n\\nTogether%s\\n\\n' % str(anded)\n",
    "print '\\n\\nNot One Piece%s\\n\\n' % str(notone)\n",
    "print '\\n\\nNot Lich King%s\\n\\n' % str(notlich)\n",
    "\n",
    "cv2.waitKey(10000)\n",
    "cv2.destroyAllWindows()\n",
    "\n",
    "# 149, 215, 220   -- 1001 0101 1101 0111\n",
    "# 102, 114, 116   -- 0110 0110 0111 0010\n",
    "# To > 4, 82, 84  -- 0000 0100 0101 0010"
   ]
  },
  {
   "cell_type": "code",
   "execution_count": null,
   "metadata": {},
   "outputs": [],
   "source": [
    "cv2.destroyAllWindows() # 0110 0110 > 1001 1001"
   ]
  },
  {
   "cell_type": "code",
   "execution_count": null,
   "metadata": {
    "collapsed": true
   },
   "outputs": [],
   "source": [
    "cv2.imshow('One Piece Not', cv2.bitwise_not(one))\n",
    "cv2.imshow('One Piece', one)\n",
    "cv2.waitKey(10000)\n",
    "cv2.destroyAllWindows()"
   ]
  },
  {
   "cell_type": "code",
   "execution_count": null,
   "metadata": {
    "collapsed": true
   },
   "outputs": [],
   "source": []
  }
 ],
 "metadata": {
  "kernelspec": {
   "display_name": "Python 2",
   "language": "python",
   "name": "python2"
  },
  "language_info": {
   "codemirror_mode": {
    "name": "ipython",
    "version": 2
   },
   "file_extension": ".py",
   "mimetype": "text/x-python",
   "name": "python",
   "nbconvert_exporter": "python",
   "pygments_lexer": "ipython2",
   "version": "2.7.14"
  }
 },
 "nbformat": 4,
 "nbformat_minor": 2
}
